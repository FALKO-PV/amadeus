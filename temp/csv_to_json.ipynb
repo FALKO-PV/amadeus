{
 "cells": [
  {
   "cell_type": "code",
   "execution_count": 69,
   "id": "f651a1ba",
   "metadata": {},
   "outputs": [],
   "source": [
    "import csv\n",
    "import json\n",
    "import random\n",
    "import re"
   ]
  },
  {
   "cell_type": "code",
   "execution_count": 2,
   "id": "6aade0f6",
   "metadata": {},
   "outputs": [],
   "source": [
    "headings = ['I.', 'II', 'IV', 'V.', 'VI']"
   ]
  },
  {
   "cell_type": "code",
   "execution_count": 26,
   "id": "290e66d3",
   "metadata": {},
   "outputs": [],
   "source": [
    "def get_heading(string):\n",
    "    no = {'I': '1', 'II': '2', 'III': '3', 'IV': '4', 'V': '5', 'VI': '6', 'VII': '7'}\n",
    "    dot = string.find('.')\n",
    "    return no[string[:dot]], string[dot+1:dot+2], string[dot+2:]"
   ]
  },
  {
   "cell_type": "code",
   "execution_count": 79,
   "id": "097ab7ec",
   "metadata": {},
   "outputs": [],
   "source": [
    "def create_code(string, n, m):\n",
    "    \n",
    "    random.seed = 42\n",
    "    \n",
    "    subbed = re.subn('[,.:;()ßäÄöÖüÜ_-]', '', string.strip().replace(\" \", \"\"))\n",
    "    \n",
    "    sample = random.sample(subbed[0], 5)\n",
    "    \n",
    "    return \"\".join(sample) + n + m"
   ]
  },
  {
   "cell_type": "code",
   "execution_count": 80,
   "id": "6ca0dd95",
   "metadata": {},
   "outputs": [],
   "source": [
    "with open(\"itemliste.csv\", \"r\", encoding=\"UTF8\") as items:\n",
    "    \n",
    "    ud = \"unspecific_dimensions\"\n",
    "    \n",
    "    json_dict = {ud: {\"1\":{\"dimension_name\": \"\",\n",
    "                          \"pool\":{}}}}\n",
    "    cur_dim = \"1\"\n",
    "    cur_subdim = \"1\"\n",
    "    cur_name = \"\"\n",
    "    cur_subname = \"\"\n",
    "    \n",
    "    index = 0\n",
    "    \n",
    "    for item in items:\n",
    "        \n",
    "        if item == \"\\ufeff\\n\":\n",
    "            continue\n",
    "        \n",
    "        if item[:2] in headings:\n",
    "            \n",
    "            dim, subdim, name = get_heading(item)\n",
    "            if subdim == \" \":\n",
    "                cur_dim = dim\n",
    "                cur_subdim = subdim\n",
    "                cur_name = name.strip()\n",
    "                \n",
    "                index = 1\n",
    "                \n",
    "                json_dict[ud][cur_dim] = {\n",
    "                    \"dimension_name\": cur_name,\n",
    "                    \"pool\": {}\n",
    "                }\n",
    "                \n",
    "            else:\n",
    "                cur_subdim = subdim\n",
    "                cur_subname = name.strip()\n",
    "                \n",
    "        else:\n",
    "            code = create_code(item, cur_dim, cur_subdim)\n",
    "            \n",
    "            json_dict[ud][cur_dim][\"pool\"][code] = {\n",
    "                \"nwfg_study\": True,\n",
    "                \"index\": index,\n",
    "                \"question_text\": item.strip(),\n",
    "                \"subdimension\": cur_subname\n",
    "            }\n",
    "            index += 1\n",
    "        \n",
    "    with open(\"question_pool.json\", \"w\", encoding=\"utf-8\") as json_dump:\n",
    "        \n",
    "        json.dump(json_dict, json_dump, ensure_ascii=False, indent=4)"
   ]
  },
  {
   "cell_type": "code",
   "execution_count": 73,
   "id": "5291f152",
   "metadata": {},
   "outputs": [
    {
     "name": "stdout",
     "output_type": "stream",
     "text": [
      "('IAuswahlundThematisierungvonInhaltenundFachmethoden', 5)\n"
     ]
    }
   ],
   "source": [
    "test = \"I. Auswähl und, Thematisierung von: (Inhalten) und Fachmethoden\\n\"\n",
    "\n",
    "string = re.subn('[,.:;()ßäÄöÖüÜ]', '', test.strip().replace(\" \", \"\"))\n",
    "\n",
    "print(string)"
   ]
  }
 ],
 "metadata": {
  "kernelspec": {
   "display_name": "Python 3 (ipykernel)",
   "language": "python",
   "name": "python3"
  },
  "language_info": {
   "codemirror_mode": {
    "name": "ipython",
    "version": 3
   },
   "file_extension": ".py",
   "mimetype": "text/x-python",
   "name": "python",
   "nbconvert_exporter": "python",
   "pygments_lexer": "ipython3",
   "version": "3.9.12"
  }
 },
 "nbformat": 4,
 "nbformat_minor": 5
}