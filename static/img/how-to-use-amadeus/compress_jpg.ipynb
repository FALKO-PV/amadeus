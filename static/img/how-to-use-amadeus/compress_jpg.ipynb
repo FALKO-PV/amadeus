{
 "cells": [
  {
   "cell_type": "code",
   "execution_count": 7,
   "id": "a4544f4b-6e32-4c5f-b7cd-1890ef9eb3f1",
   "metadata": {},
   "outputs": [
    {
     "name": "stdout",
     "output_type": "stream",
     "text": [
      "Komprimiere ./htu-amadeus-2.png\n",
      "Komprimiere ./htu-amadeus-3.png\n",
      "Komprimiere ./htu-amadeus-1.png\n"
     ]
    }
   ],
   "source": [
    "import os\n",
    "from PIL import Image\n",
    "\n",
    "def compress_images(directory):\n",
    "    for root, dirs, files in os.walk(directory):\n",
    "        for file in files:\n",
    "            if file.endswith(\".png\"):\n",
    "                file_path = os.path.join(root, file)\n",
    "                try:\n",
    "                    # Öffnen und komprimieren der PNG-Datei\n",
    "                    image = Image.open(file_path)\n",
    "                    width, height = image.size\n",
    "                    new_width = 600\n",
    "                    new_height = int(height * new_width / width)\n",
    "                    resized_image = image.resize((new_width, new_height))\n",
    "                    resized_image.save(file_path, \"PNG\", optimize=True)\n",
    "                    print(f\"Komprimiere {file_path}\")\n",
    "                except Exception as e:\n",
    "                    print(f\"Fehler beim Komprimieren von {file_path}: {str(e)}\")\n",
    "\n",
    "# Beispielaufruf mit dem angegebenen Verzeichnis\n",
    "directory_path = \".\"\n",
    "compress_images(directory_path)\n"
   ]
  },
  {
   "cell_type": "code",
   "execution_count": null,
   "id": "5feddc5d-8dda-4037-8cb8-f8cfd10171de",
   "metadata": {},
   "outputs": [],
   "source": []
  }
 ],
 "metadata": {
  "kernelspec": {
   "display_name": "Python 3 (ipykernel)",
   "language": "python",
   "name": "python3"
  },
  "language_info": {
   "codemirror_mode": {
    "name": "ipython",
    "version": 3
   },
   "file_extension": ".py",
   "mimetype": "text/x-python",
   "name": "python",
   "nbconvert_exporter": "python",
   "pygments_lexer": "ipython3",
   "version": "3.10.8"
  }
 },
 "nbformat": 4,
 "nbformat_minor": 5
}
