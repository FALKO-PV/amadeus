{
 "cells": [
  {
   "cell_type": "code",
   "execution_count": 1,
   "metadata": {},
   "outputs": [],
   "source": [
    "# noinspection JupyterPackage\n",
    "import matplotlib\n",
    "import seaborn as sns\n",
    "import matplotlib.pyplot as plt\n",
    "from matplotlib import rcParams\n",
    "import numpy as np\n",
    "from matplotlib.ticker import FuncFormatter\n",
    "import django\n",
    "import os\n",
    "import sys\n",
    "\n",
    "%matplotlib inline"
   ]
  },
  {
   "cell_type": "code",
   "execution_count": 2,
   "metadata": {
    "pycharm": {
     "name": "#%%\n"
    }
   },
   "outputs": [],
   "source": [
    "os.environ[\"DJANGO_SETTINGS_MODULE\"] = \"eduQualityEval.settings\"\n",
    "os.environ[\"DJANGO_ALLOW_ASYNC_UNSAFE\"] = \"true\"\n",
    "sys.path.extend(['/Users/stefan/Documents/eduQualityEval', '/Applications/PyCharm.app/Contents/plugins/python/helpers/pycharm', '/Applications/PyCharm.app/Contents/plugins/python/helpers/pydev'])\n",
    "django.setup()"
   ]
  },
  {
   "cell_type": "code",
   "execution_count": 4,
   "metadata": {
    "pycharm": {
     "name": "#%%\n"
    }
   },
   "outputs": [],
   "source": [
    "from evaluation_tool.scripts.data_analysis import DataAnalyzer"
   ]
  },
  {
   "cell_type": "code",
   "execution_count": 5,
   "metadata": {
    "pycharm": {
     "name": "#%%\n"
    }
   },
   "outputs": [],
   "source": [
    "da = DataAnalyzer(\"fb69b214-ce2d-4d97-8af3-56bb88c4a59b\")\n",
    "data_dict = da.get_stats_per_dim()"
   ]
  },
  {
   "cell_type": "code",
   "execution_count": 6,
   "metadata": {
    "pycharm": {
     "name": "#%%\n"
    }
   },
   "outputs": [
    {
     "name": "stdout",
     "output_type": "stream",
     "text": [
      "{1: {'name': 'Auswahl und Inhalte', 'mean': 3.25, 'std': 1.1, 'median': 3, 'counts': ([1, 2, 3, 4, 5], [7, 19, 26, 36, 11])}, 2: {'name': 'Kognitive Aktivierung', 'mean': 3.43, 'std': 1.09, 'median': 4, 'counts': ([1, 2, 3, 4, 5], [4, 11, 21, 27, 12])}, 3: {'name': 'Üben', 'mean': 3.23, 'std': 1.28, 'median': 4, 'counts': ([1, 2, 3, 4, 5], [7, 7, 9, 18, 7])}, 4: {'name': 'Assessment', 'mean': 3.65, 'std': 1.03, 'median': 4, 'counts': ([1, 2, 3, 4, 5], [2, 7, 11, 26, 11])}, 5: {'name': 'Lernunterstützung', 'mean': 3.19, 'std': 1.13, 'median': 4, 'counts': ([1, 2, 3, 4, 5], [6, 10, 12, 25, 4])}, 6: {'name': 'Sozio-emotionale Unterstützung', 'mean': 3.29, 'std': 1.14, 'median': 3, 'counts': ([1, 2, 3, 4, 5], [2, 13, 13, 14, 9])}, 61: {'name': 'Verhältnis: Lehrer - Schüler', 'mean': 3.5, 'std': 1.12, 'median': 4, 'counts': ([1, 2, 3, 4, 5], [1, 6, 6, 11, 6])}, 62: {'name': 'Verhältnis: Schüler untereinander', 'mean': 3.17, 'std': 1.07, 'median': 3, 'counts': ([1, 2, 3, 4, 5], [0, 6, 6, 3, 3])}, 7: {'name': 'Klassenführung', 'mean': 3.47, 'std': 1.0, 'median': 4, 'counts': ([1, 2, 3, 4, 5], [3, 8, 18, 29, 8])}, 71: {'name': 'Verhaltensmanagement', 'mean': 3.33, 'std': 1.04, 'median': 4, 'counts': ([1, 2, 3, 4, 5], [2, 5, 6, 15, 2])}, 72: {'name': 'Zeitmanagement', 'mean': 3.7, 'std': 0.9, 'median': 4, 'counts': ([1, 2, 3, 4, 5], [0, 2, 10, 9, 6])}, 8: {'name': 'Ästhetik', 'mean': 3.75, 'std': 1.01, 'median': 4, 'counts': ([1, 2, 3, 4, 5], [0, 2, 2, 5, 3])}, 9: {'name': 'fachspezifische Dimension', 'mean': 3.67, 'std': 1.18, 'median': 4, 'counts': ([1, 2, 3, 4, 5], [1, 1, 2, 5, 3])}}\n"
     ]
    }
   ],
   "source": [
    "print(data_dict)"
   ]
  },
  {
   "cell_type": "code",
   "execution_count": 7,
   "metadata": {
    "pycharm": {
     "name": "#%%\n"
    }
   },
   "outputs": [
    {
     "data": {
      "text/plain": "<Figure size 500x100 with 1 Axes>",
      "image/png": "[encoded data removed]"
     },
     "metadata": {},
     "output_type": "display_data"
    }
   ],
   "source": [
    "sns.palplot(sns.color_palette(\"rocket_r\", 5))"
   ]
  },
  {
   "cell_type": "code",
   "execution_count": 50,
   "metadata": {
    "pycharm": {
     "name": "#%%\n"
    }
   },
   "outputs": [],
   "source": [
    "def create_bullet_graph(counts, dimension_name, mean, sd):\n",
    "    limits = list(np.array(counts).cumsum())\n",
    "    rcParams['font.family'] = 'monospace'\n",
    "    # remove x labels and ticks\n",
    "    plt.tick_params(\n",
    "        axis='x',          # changes apply to the x-axis\n",
    "        which='both',      # both major and minor ticks are affected\n",
    "        bottom=False,      # ticks along the bottom edge are off\n",
    "        top=False,         # ticks along the top edge are off\n",
    "        labelbottom=False)\n",
    "    # clear all existing axis and figures\n",
    "    plt.cla()\n",
    "    plt.clf()\n",
    "\n",
    "    max_limit = max(limits)\n",
    "    limits_in_percentage = [round(limit / max_limit * 100, 2) for limit in limits]\n",
    "    proportional_mean = mean * 100 / len(limits)\n",
    "    proportional_sd = sd * 100 / len(limits)\n",
    "\n",
    "    sns_color_palette = sns.color_palette(\"rocket_r\", len(limits))\n",
    "\n",
    "    # calc lower and upper bonds of whiskers\n",
    "    # lower_sd = mean - sd\n",
    "    upper_sd = proportional_mean + proportional_sd\n",
    "    # add whiskers\n",
    "    upper_whisker = plt.Line2D((upper_sd, upper_sd), (4, -2))\n",
    "    upper_whisker.set_color('black')\n",
    "\n",
    "    # create new axes to work on\n",
    "    fig = plt.figure(figsize=(5, 1))\n",
    "    axs = plt.axes()\n",
    "    axs.set_aspect(\"equal\")\n",
    "    axs.yaxis.tick_right()\n",
    "    axs.set_yticks([1])\n",
    "    axs.set_yticklabels([f\" {dimension_name}\"])\n",
    "    prev_limit = 0\n",
    "    for idx, lim in enumerate(limits_in_percentage):\n",
    "        axs.barh([1], lim - prev_limit, left=prev_limit, height=16, color=sns_color_palette[idx])\n",
    "        prev_limit = lim\n",
    "\n",
    "    axs.barh([1], proportional_mean, color=\"white\", height=4)\n",
    "\n",
    "    # add line for sd\n",
    "    sd_line = plt.Line2D((upper_sd, proportional_mean), (1, 1), lw=.75)\n",
    "    sd_line.set_color('black')\n",
    "    plt.gca().add_line(sd_line)\n",
    "    plt.gca().add_line(upper_whisker)\n",
    "\n",
    "    # removed mean text\n",
    "    # plt.text(proportional_mean + 3, 0, str(round(mean, 2)), family='monospace', color=\"white\")"
   ]
  },
  {
   "cell_type": "code",
   "execution_count": 51,
   "metadata": {
    "pycharm": {
     "name": "#%%\n"
    }
   },
   "outputs": [
    {
     "data": {
      "text/plain": "<Figure size 640x480 with 0 Axes>"
     },
     "metadata": {},
     "output_type": "display_data"
    },
    {
     "data": {
      "text/plain": "<Figure size 500x100 with 0 Axes>"
     },
     "metadata": {},
     "output_type": "display_data"
    },
    {
     "data": {
      "text/plain": "<Figure size 500x100 with 0 Axes>"
     },
     "metadata": {},
     "output_type": "display_data"
    },
    {
     "data": {
      "text/plain": "<Figure size 500x100 with 0 Axes>"
     },
     "metadata": {},
     "output_type": "display_data"
    },
    {
     "data": {
      "text/plain": "<Figure size 500x100 with 0 Axes>"
     },
     "metadata": {},
     "output_type": "display_data"
    },
    {
     "data": {
      "text/plain": "<Figure size 500x100 with 0 Axes>"
     },
     "metadata": {},
     "output_type": "display_data"
    },
    {
     "data": {
      "text/plain": "<Figure size 500x100 with 0 Axes>"
     },
     "metadata": {},
     "output_type": "display_data"
    },
    {
     "data": {
      "text/plain": "<Figure size 500x100 with 0 Axes>"
     },
     "metadata": {},
     "output_type": "display_data"
    },
    {
     "data": {
      "text/plain": "<Figure size 500x100 with 0 Axes>"
     },
     "metadata": {},
     "output_type": "display_data"
    },
    {
     "data": {
      "text/plain": "<Figure size 500x100 with 0 Axes>"
     },
     "metadata": {},
     "output_type": "display_data"
    },
    {
     "data": {
      "text/plain": "<Figure size 500x100 with 0 Axes>"
     },
     "metadata": {},
     "output_type": "display_data"
    },
    {
     "data": {
      "text/plain": "<Figure size 500x100 with 0 Axes>"
     },
     "metadata": {},
     "output_type": "display_data"
    },
    {
     "data": {
      "text/plain": "<Figure size 500x100 with 0 Axes>"
     },
     "metadata": {},
     "output_type": "display_data"
    },
    {
     "data": {
      "text/plain": "<Figure size 500x100 with 1 Axes>",
      "image/png": "[encoded data removed]"
     },
     "metadata": {},
     "output_type": "display_data"
    }
   ],
   "source": [
    "for key in data_dict.keys():\n",
    "    counts = data_dict[key][\"counts\"][1]\n",
    "    dimension_name = data_dict[key][\"name\"]\n",
    "    mean = data_dict[key][\"mean\"]\n",
    "    sd = data_dict[key][\"std\"]\n",
    "    create_bullet_graph(counts, dimension_name, mean, sd)"
   ]
  },
  {
   "cell_type": "code",
   "execution_count": null,
   "metadata": {
    "pycharm": {
     "name": "#%%\n"
    }
   },
   "outputs": [],
   "source": []
  }
 ],
 "metadata": {
  "kernelspec": {
   "display_name": "Python 3 (ipykernel)",
   "language": "python",
   "name": "python3"
  },
  "language_info": {
   "codemirror_mode": {
    "name": "ipython",
    "version": 3
   },
   "file_extension": ".py",
   "mimetype": "text/x-python",
   "name": "python",
   "nbconvert_exporter": "python",
   "pygments_lexer": "ipython3",
   "version": "3.9.12"
  },
  "toc": {
   "base_numbering": 1,
   "nav_menu": {},
   "number_sections": true,
   "sideBar": true,
   "skip_h1_title": false,
   "title_cell": "Table of Contents",
   "title_sidebar": "Contents",
   "toc_cell": false,
   "toc_position": {},
   "toc_section_display": true,
   "toc_window_display": false
  }
 },
 "nbformat": 4,
 "nbformat_minor": 1
}